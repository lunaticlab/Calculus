{
 "cells": [
  {
   "cell_type": "code",
   "execution_count": 1,
   "id": "da053148",
   "metadata": {},
   "outputs": [],
   "source": [
    "import sys\n",
    "import numpy as np\n",
    "sys.path.append(\"./module\")\n",
    "from module import Calculus"
   ]
  },
  {
   "cell_type": "code",
   "execution_count": 3,
   "id": "037d6362",
   "metadata": {},
   "outputs": [
    {
     "name": "stdout",
     "output_type": "stream",
     "text": [
      "diff=2.0000\n",
      "arc=4.2008\n",
      "root=2.0000\n"
     ]
    }
   ],
   "source": [
    "#if __name__ =='__main__': \n",
    "f=lambda x:2*x**3-x**4 #f is given function\n",
    "example=Calculus(f)\n",
    "\n",
    "\n",
    "x=1\n",
    "diff=example.diff(f,x)\n",
    "\n",
    "a=0;b=2;n=10000\n",
    "arc=0\n",
    "arc=example.integral(a,b,\"arc\")# arc means the method of arc_length\n",
    "#arc=example.integral(a,b,f) means integral function directly\n",
    "\n",
    "inital=3\n",
    "root=example.newton(inital)#put the inital guess root\n",
    "\n",
    "example.prints(\"diff,arc,root\")"
   ]
  },
  {
   "cell_type": "code",
   "execution_count": null,
   "id": "3d8ecdb9",
   "metadata": {},
   "outputs": [],
   "source": []
  }
 ],
 "metadata": {
  "kernelspec": {
   "display_name": "Python 3",
   "language": "python",
   "name": "python3"
  },
  "language_info": {
   "codemirror_mode": {
    "name": "ipython",
    "version": 3
   },
   "file_extension": ".py",
   "mimetype": "text/x-python",
   "name": "python",
   "nbconvert_exporter": "python",
   "pygments_lexer": "ipython3",
   "version": "3.8.8"
  }
 },
 "nbformat": 4,
 "nbformat_minor": 5
}
